{
 "cells": [
  {
   "cell_type": "code",
   "execution_count": null,
   "id": "a0732e0c",
   "metadata": {},
   "outputs": [],
   "source": [
    "import torch as T\n",
    "import torch.nn as nn\n",
    "import torch.nn.functional as F\n",
    "\n",
    "import pandas as pd\n",
    "import numpy as np\n",
    "import matplotlib.pyplot as plt\n",
    "\n",
    "from sklearn.model_selection import train_test_split"
   ]
  },
  {
   "cell_type": "code",
   "execution_count": 3,
   "id": "28e17eba",
   "metadata": {},
   "outputs": [],
   "source": [
    "dataframe = pd.read_csv(\"A_Z Handwritten Data.csv\")"
   ]
  },
  {
   "cell_type": "code",
   "execution_count": 4,
   "id": "3dc604cf",
   "metadata": {},
   "outputs": [],
   "source": [
    "xtr, xte, ytr, yte = train_test_split(dataframe[dataframe.columns[1:785]], dataframe[\"0\"], test_size = 0.3)\n",
    "xtr = xtr.to_numpy().astype(\"float32\")\n",
    "xte = xte.to_numpy().astype(\"float32\")\n",
    "xtr.shape = (260715, 1, 28, 28)\n",
    "xte.shape = (111735, 1, 28, 28)\n",
    "xtr = T.from_numpy(xtr)\n",
    "xte = T.from_numpy(xte)\n",
    "ytr = F.one_hot(T.from_numpy(ytr.to_numpy().astype(\"int64\"))).float()\n",
    "yte = F.one_hot(T.from_numpy(yte.to_numpy().astype(\"int64\"))).float()"
   ]
  },
  {
   "cell_type": "code",
   "execution_count": 5,
   "id": "cab06b98",
   "metadata": {},
   "outputs": [],
   "source": [
    "def batching(size, length):\n",
    "    rvalue = []\n",
    "    for i in range(size):\n",
    "        rvalue.append(np.random.randint(0, length - 1))\n",
    "    return rvalue"
   ]
  },
  {
   "cell_type": "code",
   "execution_count": 16,
   "id": "0e6c8a83",
   "metadata": {},
   "outputs": [],
   "source": [
    "class Model(nn.Module):\n",
    "    def __init__(self):\n",
    "        super(Model, self).__init__()\n",
    "        self.network = nn.Sequential(\n",
    "            nn.Conv2d(1, 4, kernel_size = 3, padding = 1),\n",
    "            nn.Conv2d(4, 16, kernel_size = 3, padding = 1),\n",
    "            nn.MaxPool2d(2, 2),\n",
    "            nn.ReLU(),\n",
    "            \n",
    "            nn.Conv2d(16, 64, kernel_size = 3, padding = 1),\n",
    "            nn.Conv2d(64, 256, kernel_size = 3, padding = 1),\n",
    "            nn.MaxPool2d(2, 2),\n",
    "            nn.ReLU(),\n",
    "            \n",
    "            nn.Flatten(),\n",
    "            nn.Linear(12544, 4096),\n",
    "            nn.Linear(4096, 1024),\n",
    "            nn.Linear(1024, 26)\n",
    "        )\n",
    "    def forward(self, x):\n",
    "        return self.network(x)\n",
    "model = Model()"
   ]
  },
  {
   "cell_type": "code",
   "execution_count": 16,
   "id": "6f9f35bf",
   "metadata": {},
   "outputs": [
    {
     "name": "stdout",
     "output_type": "stream",
     "text": [
      "Epoch: 10 Training Loss: 0.4003906846046448, Testing Acc: 87.0%\n",
      "Epoch: 20 Training Loss: 0.31112420558929443, Testing Acc: 89.0%\n",
      "Epoch: 30 Training Loss: 0.26617905497550964, Testing Acc: 93.0%\n",
      "Epoch: 40 Training Loss: 0.1875021606683731, Testing Acc: 93.0%\n",
      "Epoch: 50 Training Loss: 0.20443065464496613, Testing Acc: 88.0%\n",
      "Final Evaluation: 92.72%\n"
     ]
    }
   ],
   "source": [
    "ALPHA = 0.0005\n",
    "EPOCHS = 50\n",
    "BATCH_SIZE = 256\n",
    "TEST_SIZE = 100\n",
    "TEST_FREQ = 10\n",
    "\n",
    "criterion = nn.CrossEntropyLoss()\n",
    "opt = T.optim.Adam(model.parameters(), lr = ALPHA)\n",
    "\n",
    "for i in range(EPOCHS):\n",
    "    batchinds = batching(BATCH_SIZE, 260715)\n",
    "    testacc = 0\n",
    "    output = model(xtr[batchinds])\n",
    "    loss = criterion(output, ytr[batchinds])\n",
    "    loss.backward()\n",
    "    opt.step()\n",
    "    opt.zero_grad()\n",
    "    if i % TEST_FREQ == TEST_FREQ - 1:\n",
    "        with T.no_grad():\n",
    "            trainloss = loss.item()\n",
    "            batchinds = batching(TEST_SIZE, 111735)\n",
    "            pred = model(xte[batchinds])\n",
    "            results = yte[batchinds]\n",
    "            for j in range(len(pred.tolist())):\n",
    "                if (pred[j].tolist().index(max(pred[j].tolist())) == results[j].tolist().index(1)):\n",
    "                    testacc += 1\n",
    "            testacc /= TEST_SIZE / 100\n",
    "            print(\"Epoch: {} Training Loss: {}, Testing Acc: {}%\".format(i + 1, trainloss, testacc))\n",
    "with T.no_grad():\n",
    "    testacc = 0\n",
    "    inds = batching(10000, 111735)\n",
    "    pred = model(xte[inds])\n",
    "    results = yte[inds]\n",
    "    for j in range(len(pred.tolist())):\n",
    "        if (pred[j].tolist().index(max(pred[j].tolist())) == results[j].tolist().index(1)):\n",
    "            testacc += 1\n",
    "    testacc /= 100\n",
    "    print(\"Final Evaluation: {}%\".format(testacc))"
   ]
  },
  {
   "cell_type": "code",
   "execution_count": 65,
   "id": "bacee3ae",
   "metadata": {},
   "outputs": [
    {
     "name": "stdout",
     "output_type": "stream",
     "text": [
      "p\n"
     ]
    },
    {
     "data": {
      "image/png": "[encoded data removed]",
      "text/plain": [
       "<Figure size 640x480 with 1 Axes>"
      ]
     },
     "metadata": {},
     "output_type": "display_data"
    }
   ],
   "source": [
    "n = random.randint(0, 111734)\n",
    "letters = ['a', 'b', 'c', 'd', 'e', 'f', 'g', 'h', 'i', 'j', 'k', 'l', 'm', 'n',\n",
    "          'o', 'p', 'q', 'r', 's', 't', 'u', 'v', 'w', 'x', 'y', 'z']\n",
    "plt.imshow(xte[n].squeeze())\n",
    "with T.no_grad():\n",
    "    print(letters[T.argmax(model(xte[n].unsqueeze(0)), dim = -1).item()])"
   ]
  },
  {
   "cell_type": "code",
   "execution_count": 34,
   "id": "773874d2",
   "metadata": {},
   "outputs": [],
   "source": [
    "T.save(model.state_dict(), 'letterclassifier.pt')"
   ]
  },
  {
   "cell_type": "code",
   "execution_count": null,
   "id": "9b142847",
   "metadata": {},
   "outputs": [],
   "source": [
    "import torchvision as tv\n",
    "trained = Model()\n",
    "trained.load_state_dict(T.load('letterclassifier.pt'))\n",
    "transform = tv.transforms.Compose([\n",
    "    tv.transforms.Resize((28, 28), antialias = True),\n",
    "    tv.transforms.RandomInvert(),\n",
    "    tv.transforms.Grayscale()\n",
    "])\n",
    "img = tv.io.read_image('image.png')\n",
    "img = tv.transforms.functional.invert(img)\n",
    "img = transform(img).float().unsqueeze(0)\n",
    "plt.imshow(img.squeeze())\n",
    "print(trained(img).argmax(dim = -1) + 1)"
   ]
  }
 ],
 "metadata": {
  "kernelspec": {
   "display_name": "Python 3 (ipykernel)",
   "language": "python",
   "name": "python3"
  },
  "language_info": {
   "codemirror_mode": {
    "name": "ipython",
    "version": 3
   },
   "file_extension": ".py",
   "mimetype": "text/x-python",
   "name": "python",
   "nbconvert_exporter": "python",
   "pygments_lexer": "ipython3",
   "version": "3.9.13"
  }
 },
 "nbformat": 4,
 "nbformat_minor": 5
}
